{
 "cells": [
  {
   "cell_type": "code",
   "execution_count": 1,
   "metadata": {
    "id": "swAwsbtII1rf"
   },
   "outputs": [],
   "source": [
    "import pandas as pd\n",
    "df = pd.read_csv(\"/home/suhail/UPENN/Neuroflow/Neuroflow_takehome-main/phq_all_final.csv\")"
   ]
  },
  {
   "cell_type": "code",
   "execution_count": 2,
   "metadata": {
    "colab": {
     "base_uri": "https://localhost:8080/",
     "height": 195
    },
    "id": "Zh8OM6yNJVTa",
    "outputId": "75b5226b-a255-4320-f582-78ac411d2792"
   },
   "outputs": [
    {
     "data": {
      "text/html": [
       "<div>\n",
       "<style scoped>\n",
       "    .dataframe tbody tr th:only-of-type {\n",
       "        vertical-align: middle;\n",
       "    }\n",
       "\n",
       "    .dataframe tbody tr th {\n",
       "        vertical-align: top;\n",
       "    }\n",
       "\n",
       "    .dataframe thead th {\n",
       "        text-align: right;\n",
       "    }\n",
       "</style>\n",
       "<table border=\"1\" class=\"dataframe\">\n",
       "  <thead>\n",
       "    <tr style=\"text-align: right;\">\n",
       "      <th></th>\n",
       "      <th>date</th>\n",
       "      <th>patient_id</th>\n",
       "      <th>type</th>\n",
       "      <th>patient_date_created</th>\n",
       "      <th>score</th>\n",
       "    </tr>\n",
       "  </thead>\n",
       "  <tbody>\n",
       "    <tr>\n",
       "      <th>0</th>\n",
       "      <td>2019-08-26T13:32:43.019162</td>\n",
       "      <td>8430</td>\n",
       "      <td>gad7</td>\n",
       "      <td>2019-06-03T13:23:02.63568</td>\n",
       "      <td>6</td>\n",
       "    </tr>\n",
       "    <tr>\n",
       "      <th>1</th>\n",
       "      <td>2019-11-15T17:55:11.364877</td>\n",
       "      <td>8430</td>\n",
       "      <td>gad7</td>\n",
       "      <td>2019-06-03T13:23:02.63568</td>\n",
       "      <td>1</td>\n",
       "    </tr>\n",
       "    <tr>\n",
       "      <th>2</th>\n",
       "      <td>2019-10-07T18:23:29.611351</td>\n",
       "      <td>14338</td>\n",
       "      <td>gad7</td>\n",
       "      <td>2019-06-03T13:32:30.66846</td>\n",
       "      <td>10</td>\n",
       "    </tr>\n",
       "    <tr>\n",
       "      <th>3</th>\n",
       "      <td>2019-11-04T20:16:28.610965</td>\n",
       "      <td>14338</td>\n",
       "      <td>gad7</td>\n",
       "      <td>2019-06-03T13:32:30.66846</td>\n",
       "      <td>7</td>\n",
       "    </tr>\n",
       "    <tr>\n",
       "      <th>4</th>\n",
       "      <td>2019-12-02T20:56:55.966354</td>\n",
       "      <td>14338</td>\n",
       "      <td>gad7</td>\n",
       "      <td>2019-06-03T13:32:30.66846</td>\n",
       "      <td>9</td>\n",
       "    </tr>\n",
       "  </tbody>\n",
       "</table>\n",
       "</div>"
      ],
      "text/plain": [
       "                         date  patient_id  type       patient_date_created  \\\n",
       "0  2019-08-26T13:32:43.019162        8430  gad7  2019-06-03T13:23:02.63568   \n",
       "1  2019-11-15T17:55:11.364877        8430  gad7  2019-06-03T13:23:02.63568   \n",
       "2  2019-10-07T18:23:29.611351       14338  gad7  2019-06-03T13:32:30.66846   \n",
       "3  2019-11-04T20:16:28.610965       14338  gad7  2019-06-03T13:32:30.66846   \n",
       "4  2019-12-02T20:56:55.966354       14338  gad7  2019-06-03T13:32:30.66846   \n",
       "\n",
       "   score  \n",
       "0      6  \n",
       "1      1  \n",
       "2     10  \n",
       "3      7  \n",
       "4      9  "
      ]
     },
     "execution_count": 2,
     "metadata": {},
     "output_type": "execute_result"
    }
   ],
   "source": [
    "df.head()"
   ]
  },
  {
   "cell_type": "code",
   "execution_count": 3,
   "metadata": {
    "id": "43yyIoLOftwW"
   },
   "outputs": [],
   "source": [
    "df.shape\n",
    "unique_ids=df.patient_id.unique()"
   ]
  },
  {
   "cell_type": "markdown",
   "metadata": {
    "id": "OEhCkYNmgx-3"
   },
   "source": [
    "## REMOVE DUPLICATE COLUMNS"
   ]
  },
  {
   "cell_type": "code",
   "execution_count": 4,
   "metadata": {
    "colab": {
     "base_uri": "https://localhost:8080/",
     "height": 67
    },
    "id": "IET67xy8O0z1",
    "outputId": "e2d4374c-2726-4509-d2f1-8d3c5adb30bb"
   },
   "outputs": [
    {
     "data": {
      "text/plain": [
       "(53698, 5)"
      ]
     },
     "metadata": {},
     "output_type": "display_data"
    },
    {
     "data": {
      "text/plain": [
       "(53698, 5)"
      ]
     },
     "metadata": {},
     "output_type": "display_data"
    },
    {
     "name": "stdout",
     "output_type": "stream",
     "text": [
      "[]\n"
     ]
    }
   ],
   "source": [
    "orig_cols = df.columns\n",
    "display(df.shape)\n",
    "keep_df = df.T.drop_duplicates().T\n",
    "display(keep_df.shape)\n",
    "keep_cols = list(keep_df.columns)\n",
    "dup_cols = list(set(orig_cols) - set(keep_cols))\n",
    "print(dup_cols)"
   ]
  },
  {
   "cell_type": "markdown",
   "metadata": {
    "id": "uUQw2KdDhCPd"
   },
   "source": [
    "## MISSING VALUES"
   ]
  },
  {
   "cell_type": "code",
   "execution_count": 5,
   "metadata": {
    "colab": {
     "base_uri": "https://localhost:8080/"
    },
    "id": "Y70yUfwtg1RH",
    "outputId": "c8621cfc-e101-4adf-ea64-da88bdda8cc5"
   },
   "outputs": [
    {
     "name": "stdout",
     "output_type": "stream",
     "text": [
      "date                    0\n",
      "patient_id              0\n",
      "type                    0\n",
      "patient_date_created    0\n",
      "score                   0\n",
      "dtype: int64\n"
     ]
    }
   ],
   "source": [
    "missing_counts = df.isna().sum()\n",
    "print(missing_counts)"
   ]
  },
  {
   "cell_type": "markdown",
   "metadata": {
    "id": "jZxINepmha7e"
   },
   "source": [
    "## DATA VISUALIZATION"
   ]
  },
  {
   "cell_type": "code",
   "execution_count": 6,
   "metadata": {
    "id": "K-FZDaJX_Z10"
   },
   "outputs": [],
   "source": [
    "%matplotlib inline\n",
    "from dateutil.parser import parse\n",
    "import matplotlib.pyplot as plt\n",
    "def visualize(val):\n",
    "  x=[]\n",
    "  y=[]\n",
    "  j=0\n",
    "  for i in range(len(df)):\n",
    "    if (df['patient_id'][i]==int(val)):\n",
    "      datetime_obj1 = parse(df['patient_date_created'][i])\n",
    "      datetime_obj2= parse(df['date'][i])\n",
    "      diff = datetime_obj2 - datetime_obj1\n",
    "      x.append(diff.total_seconds())\n",
    "      y.append(df['score'][i])\n",
    "  plt.plot(x, y, label = val,marker='o')\n",
    "  plt.xlabel('Time Difference (sec)')\n",
    "  plt.ylabel('GAD-7 Scores')\n",
    "  plt.title('GAD- 7 vs Time (Patient ID: ' + val + ')')\n",
    "  plt.show()"
   ]
  },
  {
   "cell_type": "code",
   "execution_count": 7,
   "metadata": {
    "colab": {
     "base_uri": "https://localhost:8080/",
     "height": 312
    },
    "id": "Vn7Jy2IwDcHE",
    "outputId": "45b7d949-d992-40bc-d9eb-7b53d4478df6"
   },
   "outputs": [
    {
     "name": "stdout",
     "output_type": "stream",
     "text": [
      "Enter patient_id: 49\n"
     ]
    },
    {
     "data": {
      "image/png": "[encoded data removed]",
      "text/plain": [
       "<Figure size 432x288 with 1 Axes>"
      ]
     },
     "metadata": {
      "needs_background": "light"
     },
     "output_type": "display_data"
    }
   ],
   "source": [
    "val = input(\"Enter patient_id: \")\n",
    "if int(val) not in unique_ids:\n",
    "  print('ID not found')\n",
    "else:\n",
    "  \n",
    "  visualize(val)"
   ]
  }
 ],
 "metadata": {
  "colab": {
   "collapsed_sections": [],
   "name": "Neuroflow.ipynb",
   "provenance": [],
   "toc_visible": true
  },
  "kernelspec": {
   "display_name": "Python 3",
   "language": "python",
   "name": "python3"
  },
  "language_info": {
   "codemirror_mode": {
    "name": "ipython",
    "version": 3
   },
   "file_extension": ".py",
   "mimetype": "text/x-python",
   "name": "python",
   "nbconvert_exporter": "python",
   "pygments_lexer": "ipython3",
   "version": "3.8.5"
  }
 },
 "nbformat": 4,
 "nbformat_minor": 1
}
